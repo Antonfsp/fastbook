{
  "nbformat": 4,
  "nbformat_minor": 0,
  "metadata": {
    "colab": {
      "name": "Untitled1.ipynb",
      "provenance": [],
      "authorship_tag": "ABX9TyOqGzrQ2N8fZfgOtBfBVfdu",
      "include_colab_link": true
    },
    "kernelspec": {
      "name": "python3",
      "display_name": "Python 3"
    },
    "language_info": {
      "name": "python"
    },
    "accelerator": "GPU"
  },
  "cells": [
    {
      "cell_type": "markdown",
      "metadata": {
        "id": "view-in-github",
        "colab_type": "text"
      },
      "source": [
        "<a href=\"https://colab.research.google.com/github/Antonfsp/fastbook/blob/master/Dogs%20classification.ipynb\" target=\"_parent\"><img src=\"https://colab.research.google.com/assets/colab-badge.svg\" alt=\"Open In Colab\"/></a>"
      ]
    },
    {
      "cell_type": "markdown",
      "metadata": {
        "id": "mjcHzXEcI4aq"
      },
      "source": [
        "# My first model\n",
        "\n",
        "In this notebook I develop my first deep learning model, following the learned in the lessons 1, 2 and 3 of the course \"Deep learning for coders (2020)\" teached by fast.ia .\n",
        "\n",
        "The model will be a image clasiffier model capable of differentiate between 4 types of dogs: collie, golden retriever, german shepard and chihuahua."
      ]
    },
    {
      "cell_type": "markdown",
      "metadata": {
        "id": "jAu1M-umPVS4"
      },
      "source": [
        "### The library"
      ]
    },
    {
      "cell_type": "markdown",
      "metadata": {
        "id": "SLaOePlJOoW0"
      },
      "source": [
        "We import download and import the fastbook library."
      ]
    },
    {
      "cell_type": "code",
      "metadata": {
        "colab": {
          "base_uri": "https://localhost:8080/"
        },
        "id": "IPW7qjImJSxw",
        "outputId": "fa9fd23f-30c7-49f7-d704-31e992c34161"
      },
      "source": [
        "!pip install -Uqq fastbook\n",
        "import fastbook\n",
        "fastbook.setup_book()"
      ],
      "execution_count": 1,
      "outputs": [
        {
          "output_type": "stream",
          "name": "stdout",
          "text": [
            "\u001b[K     |████████████████████████████████| 720 kB 4.8 MB/s \n",
            "\u001b[K     |████████████████████████████████| 46 kB 2.1 MB/s \n",
            "\u001b[K     |████████████████████████████████| 189 kB 39.2 MB/s \n",
            "\u001b[K     |████████████████████████████████| 1.2 MB 30.3 MB/s \n",
            "\u001b[K     |████████████████████████████████| 56 kB 2.7 MB/s \n",
            "\u001b[K     |████████████████████████████████| 51 kB 252 kB/s \n",
            "\u001b[?25hMounted at /content/gdrive\n"
          ]
        }
      ]
    },
    {
      "cell_type": "code",
      "metadata": {
        "id": "RBd2sLlzO37Q"
      },
      "source": [
        "from fastbook import *"
      ],
      "execution_count": 2,
      "outputs": []
    },
    {
      "cell_type": "markdown",
      "metadata": {
        "id": "XBqwQzgBPbTp"
      },
      "source": [
        "## Getting the data\n",
        "\n",
        "In this case, we will download 100 images of each type of dogs, using the DuckDuckGo image downloading API.\n"
      ]
    },
    {
      "cell_type": "code",
      "metadata": {
        "id": "PGUxBt53QXSH"
      },
      "source": [
        "dog_types = 'collie','golden_retriever','german_shepard','chihuahua'\n",
        "\n",
        "path = Path('dogs')\n",
        "\n",
        "if not path.exists():\n",
        "    path.mkdir()\n",
        "    for o in dog_types:\n",
        "        dest = (path/o)\n",
        "        dest.mkdir(exist_ok=True)\n",
        "        results = search_images_ddg(f'{o} dogs', max_images=100)\n",
        "        download_images(dest, urls=results)\n",
        "\n"
      ],
      "execution_count": 3,
      "outputs": []
    },
    {
      "cell_type": "markdown",
      "metadata": {
        "id": "yg5z1HWvRlUC"
      },
      "source": [
        "We check that the images where created"
      ]
    },
    {
      "cell_type": "code",
      "metadata": {
        "id": "5t8V6OdcRMJn"
      },
      "source": [
        ""
      ],
      "execution_count": null,
      "outputs": []
    }
  ]
}